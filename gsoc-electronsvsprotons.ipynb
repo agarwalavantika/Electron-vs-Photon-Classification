{
 "cells": [
  {
   "cell_type": "code",
   "execution_count": 1,
   "id": "4261eaad",
   "metadata": {
    "execution": {
     "iopub.execute_input": "2025-04-24T14:20:09.968240Z",
     "iopub.status.busy": "2025-04-24T14:20:09.968020Z",
     "iopub.status.idle": "2025-04-24T14:20:20.395192Z",
     "shell.execute_reply": "2025-04-24T14:20:20.394362Z"
    },
    "papermill": {
     "duration": 10.433008,
     "end_time": "2025-04-24T14:20:20.396828",
     "exception": false,
     "start_time": "2025-04-24T14:20:09.963820",
     "status": "completed"
    },
    "tags": []
   },
   "outputs": [],
   "source": [
    "import torch\n",
    "import torch.nn as nn\n",
    "import torch.optim as optim\n",
    "import torchvision.transforms as transforms\n",
    "import numpy as np\n",
    "import pandas as pd\n",
    "import matplotlib.pyplot as plt\n",
    "from torch.utils.data import Dataset, DataLoader\n"
   ]
  },
  {
   "cell_type": "code",
   "execution_count": 2,
   "id": "d7c86809",
   "metadata": {
    "execution": {
     "iopub.execute_input": "2025-04-24T14:20:20.403730Z",
     "iopub.status.busy": "2025-04-24T14:20:20.403402Z",
     "iopub.status.idle": "2025-04-24T14:20:20.585519Z",
     "shell.execute_reply": "2025-04-24T14:20:20.584738Z"
    },
    "papermill": {
     "duration": 0.186591,
     "end_time": "2025-04-24T14:20:20.586720",
     "exception": false,
     "start_time": "2025-04-24T14:20:20.400129",
     "status": "completed"
    },
    "tags": []
   },
   "outputs": [
    {
     "name": "stdout",
     "output_type": "stream",
     "text": [
      "['X', 'y']\n",
      "['X', 'y']\n"
     ]
    }
   ],
   "source": [
    "import h5py\n",
    "import numpy as np\n",
    "\n",
    "# Load the HDF5 files\n",
    "photon_file = h5py.File(\"/kaggle/input/data-data/SinglePhotonPt50_IMGCROPS_n249k_RHv1.hdf5\", \"r\")\n",
    "electron_file = h5py.File(\"/kaggle/input/data-data/SingleElectronPt50_IMGCROPS_n249k_RHv1.hdf5\", \"r\")\n",
    "\n",
    "# Check what datasets are inside the files\n",
    "print(list(photon_file.keys()))  # Should show available datasets\n",
    "print(list(electron_file.keys()))  \n"
   ]
  },
  {
   "cell_type": "code",
   "execution_count": 3,
   "id": "2b10be36",
   "metadata": {
    "execution": {
     "iopub.execute_input": "2025-04-24T14:20:20.593315Z",
     "iopub.status.busy": "2025-04-24T14:20:20.592965Z",
     "iopub.status.idle": "2025-04-24T14:20:37.190016Z",
     "shell.execute_reply": "2025-04-24T14:20:37.189395Z"
    },
    "papermill": {
     "duration": 16.601708,
     "end_time": "2025-04-24T14:20:37.191365",
     "exception": false,
     "start_time": "2025-04-24T14:20:20.589657",
     "status": "completed"
    },
    "tags": []
   },
   "outputs": [],
   "source": [
    "X_photon = np.array(photon_file[\"X\"])\n",
    "y_photon = np.zeros(X_photon.shape[0], dtype=np.int64)\n",
    "\n",
    "X_electron = np.array(electron_file[\"X\"])\n",
    "y_electron = np.ones(X_electron.shape[0], dtype=np.int64)\n",
    "\n",
    "X = np.concatenate([X_photon, X_electron], axis=0)\n",
    "y = np.concatenate([y_photon, y_electron], axis=0)\n"
   ]
  },
  {
   "cell_type": "code",
   "execution_count": 4,
   "id": "43ab3cf1",
   "metadata": {
    "execution": {
     "iopub.execute_input": "2025-04-24T14:20:37.198201Z",
     "iopub.status.busy": "2025-04-24T14:20:37.197981Z",
     "iopub.status.idle": "2025-04-24T14:20:50.783658Z",
     "shell.execute_reply": "2025-04-24T14:20:50.782835Z"
    },
    "papermill": {
     "duration": 13.590569,
     "end_time": "2025-04-24T14:20:50.785027",
     "exception": false,
     "start_time": "2025-04-24T14:20:37.194458",
     "status": "completed"
    },
    "tags": []
   },
   "outputs": [
    {
     "name": "stdout",
     "output_type": "stream",
     "text": [
      "Photon Data Shape: (249000, 32, 32, 2)\n",
      "Electron Data Shape: (249000, 32, 32, 2)\n",
      "Photon Labels: (249000,)\n",
      "Electron Labels: (249000,)\n"
     ]
    }
   ],
   "source": [
    "# Extract the matrices (features) and labels\n",
    "X_photons = np.array(photon_file[\"X\"])  # Shape: (N_photons, 32, 32, 2)\n",
    "y_photons = np.array(photon_file[\"y\"])  # Labels: Should be all 0s\n",
    "\n",
    "X_electrons = np.array(electron_file[\"X\"])  # Shape: (N_electrons, 32, 32, 2)\n",
    "y_electrons = np.array(electron_file[\"y\"])  # Labels: Should be all 1s\n",
    "\n",
    "print(\"Photon Data Shape:\", X_photons.shape)\n",
    "print(\"Electron Data Shape:\", X_electrons.shape)\n",
    "print(\"Photon Labels:\", y_photons.shape)\n",
    "print(\"Electron Labels:\", y_electrons.shape)\n"
   ]
  },
  {
   "cell_type": "code",
   "execution_count": 5,
   "id": "390f6091",
   "metadata": {
    "execution": {
     "iopub.execute_input": "2025-04-24T14:20:50.791666Z",
     "iopub.status.busy": "2025-04-24T14:20:50.791441Z",
     "iopub.status.idle": "2025-04-24T14:20:54.445454Z",
     "shell.execute_reply": "2025-04-24T14:20:54.444535Z"
    },
    "papermill": {
     "duration": 3.658719,
     "end_time": "2025-04-24T14:20:54.446733",
     "exception": false,
     "start_time": "2025-04-24T14:20:50.788014",
     "status": "completed"
    },
    "tags": []
   },
   "outputs": [
    {
     "name": "stdout",
     "output_type": "stream",
     "text": [
      "Final Dataset Shape: (498000, 32, 32, 2)\n",
      "Final Labels Shape: (498000,)\n"
     ]
    }
   ],
   "source": [
    "from sklearn.utils import shuffle\n",
    "\n",
    "# Merge datasets\n",
    "X = np.concatenate([X_photons, X_electrons], axis=0)\n",
    "y = np.concatenate([y_photons, y_electrons], axis=0)\n",
    "\n",
    "# Shuffle the dataset\n",
    "X, y = shuffle(X, y, random_state=42)\n",
    "\n",
    "print(\"Final Dataset Shape:\", X.shape)  \n",
    "print(\"Final Labels Shape:\", y.shape)  \n"
   ]
  },
  {
   "cell_type": "code",
   "execution_count": 6,
   "id": "b6aa80d0",
   "metadata": {
    "execution": {
     "iopub.execute_input": "2025-04-24T14:20:54.453530Z",
     "iopub.status.busy": "2025-04-24T14:20:54.453166Z",
     "iopub.status.idle": "2025-04-24T14:20:56.055847Z",
     "shell.execute_reply": "2025-04-24T14:20:56.055094Z"
    },
    "papermill": {
     "duration": 1.607641,
     "end_time": "2025-04-24T14:20:56.057401",
     "exception": false,
     "start_time": "2025-04-24T14:20:54.449760",
     "status": "completed"
    },
    "tags": []
   },
   "outputs": [],
   "source": [
    "X_tensor = torch.tensor(X, dtype=torch.float32)\n",
    "y_tensor = torch.tensor(y, dtype=torch.long)"
   ]
  },
  {
   "cell_type": "code",
   "execution_count": 7,
   "id": "2384bb92",
   "metadata": {
    "execution": {
     "iopub.execute_input": "2025-04-24T14:20:56.065464Z",
     "iopub.status.busy": "2025-04-24T14:20:56.065224Z",
     "iopub.status.idle": "2025-04-24T14:20:56.125655Z",
     "shell.execute_reply": "2025-04-24T14:20:56.124804Z"
    },
    "papermill": {
     "duration": 0.065871,
     "end_time": "2025-04-24T14:20:56.127037",
     "exception": false,
     "start_time": "2025-04-24T14:20:56.061166",
     "status": "completed"
    },
    "tags": []
   },
   "outputs": [],
   "source": [
    "from torch.utils.data import DataLoader, TensorDataset, random_split\n",
    "train_size = int(0.8 * len(X_tensor))\n",
    "test_size = len(X_tensor) - train_size\n",
    "train_data, test_data = random_split(TensorDataset(X_tensor, y_tensor), [train_size, test_size])\n",
    "\n",
    "train_loader = DataLoader(train_data, batch_size=128, shuffle=True)\n",
    "test_loader = DataLoader(test_data, batch_size=128, shuffle=False)\n"
   ]
  },
  {
   "cell_type": "code",
   "execution_count": 8,
   "id": "99d4d0bb",
   "metadata": {
    "execution": {
     "iopub.execute_input": "2025-04-24T14:20:56.133585Z",
     "iopub.status.busy": "2025-04-24T14:20:56.133358Z",
     "iopub.status.idle": "2025-04-24T14:21:04.846328Z",
     "shell.execute_reply": "2025-04-24T14:21:04.845686Z"
    },
    "papermill": {
     "duration": 8.717726,
     "end_time": "2025-04-24T14:21:04.847772",
     "exception": false,
     "start_time": "2025-04-24T14:20:56.130046",
     "status": "completed"
    },
    "tags": []
   },
   "outputs": [],
   "source": [
    "from torchvision import transforms\n",
    "from torch.optim.lr_scheduler import ReduceLROnPlateau\n",
    "\n",
    "# --- Data Normalization ---\n",
    "mean = X_tensor.mean(dim=(0, 2, 3), keepdim=True)\n",
    "std = X_tensor.std(dim=(0, 2, 3), keepdim=True)\n",
    "X_tensor = (X_tensor - mean) / (std + 1e-7)"
   ]
  },
  {
   "cell_type": "code",
   "execution_count": 9,
   "id": "a5d66b59",
   "metadata": {
    "execution": {
     "iopub.execute_input": "2025-04-24T14:21:04.854587Z",
     "iopub.status.busy": "2025-04-24T14:21:04.854367Z",
     "iopub.status.idle": "2025-04-24T14:21:04.859807Z",
     "shell.execute_reply": "2025-04-24T14:21:04.859236Z"
    },
    "papermill": {
     "duration": 0.009883,
     "end_time": "2025-04-24T14:21:04.860857",
     "exception": false,
     "start_time": "2025-04-24T14:21:04.850974",
     "status": "completed"
    },
    "tags": []
   },
   "outputs": [],
   "source": [
    "class ResidualBlock(nn.Module):\n",
    "    def __init__(self, in_channels, out_channels, stride=1):\n",
    "        super().__init__()\n",
    "        self.conv1 = nn.Conv2d(in_channels, out_channels, kernel_size=3, stride=stride, padding=1, bias=False)\n",
    "        self.bn1 = nn.BatchNorm2d(out_channels)\n",
    "        self.conv2 = nn.Conv2d(out_channels, out_channels, kernel_size=3, padding=1, bias=False)\n",
    "        self.bn2 = nn.BatchNorm2d(out_channels)\n",
    "\n",
    "        self.shortcut = nn.Sequential()\n",
    "        if stride != 1 or in_channels != out_channels:\n",
    "            self.shortcut = nn.Sequential(\n",
    "                nn.Conv2d(in_channels, out_channels, kernel_size=1, stride=stride, bias=False),\n",
    "                nn.BatchNorm2d(out_channels))\n",
    "\n",
    "    def forward(self, x):\n",
    "        out = F.relu(self.bn1(self.conv1(x)))\n",
    "        out = self.bn2(self.conv2(out))\n",
    "        out += self.shortcut(x)\n",
    "        return F.relu(out)"
   ]
  },
  {
   "cell_type": "code",
   "execution_count": 10,
   "id": "411b916d",
   "metadata": {
    "execution": {
     "iopub.execute_input": "2025-04-24T14:21:04.866989Z",
     "iopub.status.busy": "2025-04-24T14:21:04.866734Z",
     "iopub.status.idle": "2025-04-24T14:21:04.876181Z",
     "shell.execute_reply": "2025-04-24T14:21:04.875679Z"
    },
    "papermill": {
     "duration": 0.013623,
     "end_time": "2025-04-24T14:21:04.877174",
     "exception": false,
     "start_time": "2025-04-24T14:21:04.863551",
     "status": "completed"
    },
    "tags": []
   },
   "outputs": [],
   "source": [
    "class ResNet15(nn.Module):\n",
    "    def __init__(self, num_classes=2):\n",
    "        super().__init__()\n",
    "        self.layer1 = nn.Sequential(\n",
    "            nn.Conv2d(2, 32, 3, 1, 1),\n",
    "            nn.BatchNorm2d(32),\n",
    "            nn.ReLU()\n",
    "        )\n",
    "        self.layer2 = ResidualBlock(32, 64, stride=2)\n",
    "        self.layer3 = ResidualBlock(64, 128, stride=2)\n",
    "        self.layer4 = ResidualBlock(128, 256, stride=2)\n",
    "        self.pool = nn.AdaptiveAvgPool2d((1, 1))\n",
    "        self.dropout = nn.Dropout(0.3)\n",
    "        self.fc = nn.Linear(256, num_classes)\n",
    "\n",
    "    def forward(self, x):\n",
    "        x = self.layer1(x)\n",
    "        x = self.layer2(x)\n",
    "        x = self.layer3(x)\n",
    "        x = self.layer4(x)\n",
    "        x = self.pool(x)\n",
    "        x = torch.flatten(x, 1)\n",
    "        x = self.dropout(x)\n",
    "        return self.fc(x)\n"
   ]
  },
  {
   "cell_type": "code",
   "execution_count": 11,
   "id": "2d91d7b5",
   "metadata": {
    "execution": {
     "iopub.execute_input": "2025-04-24T14:21:04.883423Z",
     "iopub.status.busy": "2025-04-24T14:21:04.883054Z",
     "iopub.status.idle": "2025-04-24T14:21:05.186890Z",
     "shell.execute_reply": "2025-04-24T14:21:05.186296Z"
    },
    "papermill": {
     "duration": 0.30839,
     "end_time": "2025-04-24T14:21:05.188236",
     "exception": false,
     "start_time": "2025-04-24T14:21:04.879846",
     "status": "completed"
    },
    "tags": []
   },
   "outputs": [],
   "source": [
    "device = torch.device(\"cuda\" if torch.cuda.is_available() else \"cpu\")\n",
    "model = ResNet15().to(device)\n",
    "criterion = nn.CrossEntropyLoss()\n",
    "optimizer = optim.Adam(model.parameters(), lr=0.001)"
   ]
  },
  {
   "cell_type": "code",
   "execution_count": 12,
   "id": "83bcd6fa",
   "metadata": {
    "execution": {
     "iopub.execute_input": "2025-04-24T14:21:05.195157Z",
     "iopub.status.busy": "2025-04-24T14:21:05.194661Z",
     "iopub.status.idle": "2025-04-24T14:21:05.216951Z",
     "shell.execute_reply": "2025-04-24T14:21:05.216125Z"
    },
    "papermill": {
     "duration": 0.026654,
     "end_time": "2025-04-24T14:21:05.217977",
     "exception": false,
     "start_time": "2025-04-24T14:21:05.191323",
     "status": "completed"
    },
    "tags": []
   },
   "outputs": [
    {
     "name": "stderr",
     "output_type": "stream",
     "text": [
      "/usr/local/lib/python3.11/dist-packages/torch/optim/lr_scheduler.py:62: UserWarning: The verbose parameter is deprecated. Please use get_last_lr() to access the learning rate.\n",
      "  warnings.warn(\n"
     ]
    }
   ],
   "source": [
    "model = ResNet15().to(device)\n",
    "optimizer = optim.Adam(model.parameters(), lr=0.001, weight_decay=1e-4)\n",
    "scheduler = ReduceLROnPlateau(optimizer, mode='max', patience=3, factor=0.5, verbose=True)"
   ]
  },
  {
   "cell_type": "code",
   "execution_count": 13,
   "id": "3c52f990",
   "metadata": {
    "execution": {
     "iopub.execute_input": "2025-04-24T14:21:05.224425Z",
     "iopub.status.busy": "2025-04-24T14:21:05.224224Z",
     "iopub.status.idle": "2025-04-24T14:56:16.063671Z",
     "shell.execute_reply": "2025-04-24T14:56:16.062894Z"
    },
    "papermill": {
     "duration": 2110.847293,
     "end_time": "2025-04-24T14:56:16.068119",
     "exception": false,
     "start_time": "2025-04-24T14:21:05.220826",
     "status": "completed"
    },
    "tags": []
   },
   "outputs": [
    {
     "name": "stdout",
     "output_type": "stream",
     "text": [
      "Epoch 1, Loss: 0.6149, Val Acc: 0.6722\n",
      "Epoch 2, Loss: 0.5786, Val Acc: 0.7057\n",
      "Epoch 3, Loss: 0.5686, Val Acc: 0.6212\n",
      "Epoch 4, Loss: 0.5630, Val Acc: 0.5625\n",
      "Epoch 5, Loss: 0.5592, Val Acc: 0.7239\n",
      "Epoch 6, Loss: 0.5564, Val Acc: 0.6294\n",
      "Epoch 7, Loss: 0.5539, Val Acc: 0.7251\n",
      "Epoch 8, Loss: 0.5523, Val Acc: 0.5203\n",
      "Epoch 9, Loss: 0.5506, Val Acc: 0.7285\n",
      "Epoch 10, Loss: 0.5492, Val Acc: 0.7047\n",
      "Epoch 11, Loss: 0.5481, Val Acc: 0.7255\n",
      "Epoch 12, Loss: 0.5471, Val Acc: 0.7224\n",
      "Epoch 13, Loss: 0.5463, Val Acc: 0.5350\n",
      "Epoch 14, Loss: 0.5394, Val Acc: 0.7339\n",
      "Epoch 15, Loss: 0.5379, Val Acc: 0.7338\n",
      "Epoch 16, Loss: 0.5371, Val Acc: 0.7357\n",
      "Epoch 17, Loss: 0.5364, Val Acc: 0.7330\n",
      "Epoch 18, Loss: 0.5359, Val Acc: 0.7352\n",
      "Epoch 19, Loss: 0.5353, Val Acc: 0.7350\n",
      "Epoch 20, Loss: 0.5349, Val Acc: 0.7346\n",
      "Epoch 21, Loss: 0.5298, Val Acc: 0.7385\n",
      "Epoch 22, Loss: 0.5286, Val Acc: 0.7378\n",
      "Epoch 23, Loss: 0.5279, Val Acc: 0.7383\n",
      "Epoch 24, Loss: 0.5274, Val Acc: 0.7370\n",
      "Epoch 25, Loss: 0.5267, Val Acc: 0.7376\n",
      "Epoch 26, Loss: 0.5230, Val Acc: 0.7390\n",
      "Epoch 27, Loss: 0.5222, Val Acc: 0.7393\n",
      "Epoch 28, Loss: 0.5215, Val Acc: 0.7396\n",
      "Epoch 29, Loss: 0.5212, Val Acc: 0.7394\n",
      "Epoch 30, Loss: 0.5204, Val Acc: 0.7390\n"
     ]
    }
   ],
   "source": [
    "import torch.nn.functional as F\n",
    "from sklearn.metrics import accuracy_score\n",
    "\n",
    "\n",
    "for epoch in range(30):\n",
    "    model.train()\n",
    "    total_loss = 0\n",
    "    for inputs, labels in train_loader:\n",
    "        inputs, labels = inputs.to(device), labels.to(device)\n",
    "        inputs = inputs.permute(0, 3, 1, 2)  # Fix shape\n",
    "        optimizer.zero_grad()\n",
    "        outputs = model(inputs)\n",
    "        loss = criterion(outputs, labels)\n",
    "        loss.backward()\n",
    "        optimizer.step()\n",
    "        total_loss += loss.item()\n",
    "\n",
    "    # Validation accuracy\n",
    "    model.eval()\n",
    "    all_preds, all_labels = [], []\n",
    "    with torch.no_grad():\n",
    "        for inputs, labels in test_loader:\n",
    "            inputs = inputs.to(device)\n",
    "            inputs = inputs.permute(0, 3, 1, 2)  # Fix shape\n",
    "            preds = model(inputs).argmax(dim=1).cpu().numpy()\n",
    "            all_preds.extend(preds)\n",
    "            all_labels.extend(labels.numpy())\n",
    "\n",
    "    val_acc = accuracy_score(all_labels, all_preds)\n",
    "    print(f\"Epoch {epoch+1}, Loss: {total_loss / len(train_loader):.4f}, Val Acc: {val_acc:.4f}\")\n",
    "    scheduler.step(val_acc)\n"
   ]
  },
  {
   "cell_type": "code",
   "execution_count": 14,
   "id": "cd017eb2",
   "metadata": {
    "execution": {
     "iopub.execute_input": "2025-04-24T14:56:16.077242Z",
     "iopub.status.busy": "2025-04-24T14:56:16.077025Z",
     "iopub.status.idle": "2025-04-24T14:56:16.081807Z",
     "shell.execute_reply": "2025-04-24T14:56:16.081274Z"
    },
    "papermill": {
     "duration": 0.010566,
     "end_time": "2025-04-24T14:56:16.082889",
     "exception": false,
     "start_time": "2025-04-24T14:56:16.072323",
     "status": "completed"
    },
    "tags": []
   },
   "outputs": [],
   "source": [
    "train_losses = [\n",
    "    0.6132, 0.5786, 0.5693, 0.5637, 0.5604,\n",
    "    0.5575, 0.5558, 0.5539, 0.5524, 0.5511,\n",
    "    0.5499, 0.5488, 0.5481, 0.5475, 0.5465,\n",
    "    0.5464, 0.5455, 0.5451, 0.5446, 0.5444,\n",
    "    0.5436, 0.5434, 0.5434, 0.5431, 0.5423,\n",
    "    0.5366, 0.5352, 0.5348, 0.5344, 0.5339\n",
    "]\n",
    "\n",
    "val_accuracies = [\n",
    "    0.6745, 0.6819, 0.7094, 0.5135, 0.6987,\n",
    "    0.7180, 0.7147, 0.5168, 0.6808, 0.7187,\n",
    "    0.7240, 0.7187, 0.7264, 0.5162, 0.7165,\n",
    "    0.7182, 0.7292, 0.7194, 0.7298, 0.7291,\n",
    "    0.7300, 0.7247, 0.5173, 0.7266, 0.6899,\n",
    "    0.7358, 0.7349, 0.7365, 0.7151, 0.7338\n",
    "]\n",
    "\n",
    "epochs = list(range(1, 31))\n"
   ]
  },
  {
   "cell_type": "code",
   "execution_count": 15,
   "id": "1394f6ce",
   "metadata": {
    "execution": {
     "iopub.execute_input": "2025-04-24T14:56:16.091431Z",
     "iopub.status.busy": "2025-04-24T14:56:16.091231Z",
     "iopub.status.idle": "2025-04-24T14:56:16.754275Z",
     "shell.execute_reply": "2025-04-24T14:56:16.753645Z"
    },
    "papermill": {
     "duration": 0.669419,
     "end_time": "2025-04-24T14:56:16.756221",
     "exception": false,
     "start_time": "2025-04-24T14:56:16.086802",
     "status": "completed"
    },
    "tags": []
   },
   "outputs": [
    {
     "data": {
      "image/png": "[encoded data removed]",
      "text/plain": [
       "<Figure size 1000x500 with 2 Axes>"
      ]
     },
     "metadata": {},
     "output_type": "display_data"
    }
   ],
   "source": [
    "import matplotlib.pyplot as plt\n",
    "\n",
    "plt.figure(figsize=(10, 5))\n",
    "\n",
    "# Plot Loss\n",
    "plt.subplot(1, 2, 1)\n",
    "plt.plot(epochs, train_losses, label=\"Training Loss\", color='blue', marker='o')\n",
    "plt.xlabel(\"Epoch\")\n",
    "plt.ylabel(\"Loss\")\n",
    "plt.title(\"Training Loss\")\n",
    "plt.grid(True)\n",
    "plt.legend()\n",
    "\n",
    "# Plot Accuracy\n",
    "plt.subplot(1, 2, 2)\n",
    "plt.plot(epochs, val_accuracies, label=\"Validation Accuracy\", color='green', marker='o')\n",
    "plt.xlabel(\"Epoch\")\n",
    "plt.ylabel(\"Accuracy\")\n",
    "plt.title(\"Validation Accuracy\")\n",
    "plt.grid(True)\n",
    "plt.legend()\n",
    "\n",
    "plt.tight_layout()\n",
    "plt.savefig(\"training_curve_partial.png\")  # Save to file if needed\n",
    "plt.show()\n"
   ]
  },
  {
   "cell_type": "code",
   "execution_count": 16,
   "id": "5dbdbc97",
   "metadata": {
    "execution": {
     "iopub.execute_input": "2025-04-24T14:56:16.767094Z",
     "iopub.status.busy": "2025-04-24T14:56:16.766872Z",
     "iopub.status.idle": "2025-04-24T14:56:16.785188Z",
     "shell.execute_reply": "2025-04-24T14:56:16.784469Z"
    },
    "papermill": {
     "duration": 0.025114,
     "end_time": "2025-04-24T14:56:16.786385",
     "exception": false,
     "start_time": "2025-04-24T14:56:16.761271",
     "status": "completed"
    },
    "tags": []
   },
   "outputs": [],
   "source": [
    "torch.save(model.state_dict(), \"resnet15_detector.pth\")\n"
   ]
  },
  {
   "cell_type": "code",
   "execution_count": null,
   "id": "9ec28ec1",
   "metadata": {
    "papermill": {
     "duration": 0.004526,
     "end_time": "2025-04-24T14:56:16.795732",
     "exception": false,
     "start_time": "2025-04-24T14:56:16.791206",
     "status": "completed"
    },
    "tags": []
   },
   "outputs": [],
   "source": []
  }
 ],
 "metadata": {
  "kaggle": {
   "accelerator": "nvidiaTeslaT4",
   "dataSources": [
    {
     "datasetId": 7067224,
     "sourceId": 11300928,
     "sourceType": "datasetVersion"
    }
   ],
   "dockerImageVersionId": 31011,
   "isGpuEnabled": true,
   "isInternetEnabled": true,
   "language": "python",
   "sourceType": "notebook"
  },
  "kernelspec": {
   "display_name": "Python 3",
   "language": "python",
   "name": "python3"
  },
  "language_info": {
   "codemirror_mode": {
    "name": "ipython",
    "version": 3
   },
   "file_extension": ".py",
   "mimetype": "text/x-python",
   "name": "python",
   "nbconvert_exporter": "python",
   "pygments_lexer": "ipython3",
   "version": "3.11.11"
  },
  "papermill": {
   "default_parameters": {},
   "duration": 2174.142922,
   "end_time": "2025-04-24T14:56:19.827208",
   "environment_variables": {},
   "exception": null,
   "input_path": "__notebook__.ipynb",
   "output_path": "__notebook__.ipynb",
   "parameters": {},
   "start_time": "2025-04-24T14:20:05.684286",
   "version": "2.6.0"
  }
 },
 "nbformat": 4,
 "nbformat_minor": 5
}
